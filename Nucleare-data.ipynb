{
 "cells": [
  {
   "cell_type": "markdown",
   "metadata": {},
   "source": [
    "##  1.缺中子核素数据整理"
   ]
  },
  {
   "cell_type": "markdown",
   "metadata": {},
   "source": [
    "## 1.1 Bi\n",
    "\n",
    "   - Decay properties   "
   ]
  },
  {
   "cell_type": "markdown",
   "metadata": {},
   "source": [
    "| nuclide | $T_{1/2}$ |  error |\n",
    "| ------------------|-----------------------------|----------------|\n",
    "|$^{184}$Bi | 6.6   ms | 1.5 |\n",
    "|$^{185}$Bi | 2.0   ms |  |\n",
    "|$^{186}$Bi | 14.8   ms | 0.7 |"
   ]
  },
  {
   "cell_type": "markdown",
   "metadata": {},
   "source": [
    "   - Cross section "
   ]
  },
  {
   "cell_type": "markdown",
   "metadata": {},
   "source": [
    "   - paper\n",
    "\n",
    "       - [$^{94,95}$Mo + $^{93}$Nb  →  $^{187,188}$Bi](./paper/Bi-188,187Po-190,192,194.pdf)\n",
    "       - [$\\alpha$-decay of $^{186}$Bi and the new nuclide $^{184}$Bi](./paper/Bi-alpha_decay.pdf)\n",
    "       - [$^{191,193,199}$Bi](./paper/VASSILISSA.pdf)"
   ]
  },
  {
   "cell_type": "markdown",
   "metadata": {},
   "source": [
    "## 1.2 Po"
   ]
  },
  {
   "cell_type": "markdown",
   "metadata": {},
   "source": [
    "| nuclide | $T_{1/2}$ |  error |\n",
    "| ------------------|-----------------------------|----------------|\n",
    "|$^{186}$Po | 34   μs | 12 |\n",
    "|$^{187}$Po | 1.4   ms | 0.25 |\n",
    "|$^{188}$Po | 275   μs | 30 |"
   ]
  },
  {
   "cell_type": "markdown",
   "metadata": {},
   "source": [
    "## paper\n",
    "\n",
    "   - [$^{46}$Ti + $^{144}$Sm → $^{190}$Po$^{∗}$, $^{98}$Mo + $^{92}$Mo →$^{190}$Po$^{∗}$, $^{50,52}$Cr + $^{142}$Nd → $^{192,194}$Po$^{∗}$](./paper/Bi-188,187Po-190,192,194.pdf)\n",
    "   - [$^{200,202}$P0](./paper/VASSILISSA.pdf)"
   ]
  },
  {
   "cell_type": "markdown",
   "metadata": {},
   "source": [
    "## 1.3 At"
   ]
  },
  {
   "cell_type": "markdown",
   "metadata": {},
   "source": [
    "| nuclide | $T_{1/2}$ |  error |\n",
    "| ------------------|-----------------------------|----------------|\n",
    "|$^{191}$At | 2.1   ms | 0.8 |\n",
    "|$^{192}$At | 11.5   ms | 0.6 |\n",
    "|$^{193}$At | 29   ms | 5 |"
   ]
  },
  {
   "cell_type": "markdown",
   "metadata": {},
   "source": [
    "   - paper\n",
    "\n",
    "       - [$^{191,193,195}$At](./paper/At.pdf)\n",
    "       - [$^{199,205,207}$At](./paper/VASSILISSA.pdf)"
   ]
  },
  {
   "cell_type": "markdown",
   "metadata": {},
   "source": [
    "## 1.4 Rn"
   ]
  },
  {
   "cell_type": "markdown",
   "metadata": {},
   "source": [
    "| nuclide | $T_{1/2}$ |  error |\n",
    "| ------------------|-----------------------------|----------------|\n",
    "|$^{193}$Rn | 780   μs | 160 |\n",
    "|$^{194}$Rn | 7   ms | 3 |\n",
    "|$^{195}$Rn | 4.7   ms | 1.1 |"
   ]
  },
  {
   "cell_type": "markdown",
   "metadata": {},
   "source": [
    "   - paper\n",
    "\n",
    "       - [$^{52}$Cr + $^{144}$Sm → $^{196}$Rn$^{∗}$  →  $^{193,194}$Rn](./paper/193,194Rn.pdf)"
   ]
  },
  {
   "cell_type": "markdown",
   "metadata": {},
   "source": [
    "## 1.5 Fr"
   ]
  },
  {
   "cell_type": "markdown",
   "metadata": {},
   "source": [
    "| nuclide | $T_{1/2}$ |  error |\n",
    "| ------------------|-----------------------------|----------------|\n",
    "|$^{197}$Fr | 2.33   ms | 1.88 |\n",
    "|$^{198}$Fr | 15   ms | 3 |\n",
    "|$^{199}$Fr | 6.6   ms | 2.2 |"
   ]
  },
  {
   "cell_type": "markdown",
   "metadata": {},
   "source": [
    "   - paper\n",
    "\n",
    "       - [$^{60}$Ni + $^{141}$Pr → $^{201}$Fr$^{∗}$  →  $^{197–199}Fr$----α decay of the very neutron-deficient isotopes ](./paper/199Fr.pdf)\n",
    "       - [Fr](./paper/Fr,Ra.pdf)"
   ]
  },
  {
   "cell_type": "markdown",
   "metadata": {},
   "source": [
    "## 1.6 Ra"
   ]
  },
  {
   "cell_type": "markdown",
   "metadata": {},
   "source": [
    "| nuclide | $T_{1/2}$ |  error |\n",
    "| ------------------|-----------------------------|----------------|\n",
    "|$^{201}$Ra | 20   ms | 30 |\n",
    "|$^{202}$Ra | 3.8   ms | +1.3 -0.8 |\n",
    "|$^{203}$Ra | 36   ms | 13 |"
   ]
  },
  {
   "cell_type": "markdown",
   "metadata": {},
   "source": [
    "   - paper\n",
    "\n",
    "       - [Ra](./paper/Ra-Fr_neutron-deficient-francium.pdf)\n",
    "       - [Ra](./paper/Fr,Ra.pdf)\n",
    "       - [$^{216,228,220}$Ra](./paper/VASSILISSA.pdf)"
   ]
  },
  {
   "cell_type": "markdown",
   "metadata": {},
   "source": [
    "## 1.7 Ac"
   ]
  },
  {
   "cell_type": "markdown",
   "metadata": {},
   "source": [
    "| nuclide | $T_{1/2}$ |  error |\n",
    "| ------------------|-----------------------------|----------------|\n",
    "|$^{205}$Ac | 20   ms | +97  -9 |\n",
    "|$^{206}$Ac | 22   ms | +9 -5 |\n",
    "|$^{207}$Ac | 27   ms | +11  -6 |"
   ]
  },
  {
   "cell_type": "markdown",
   "metadata": {},
   "source": [
    "## paper\n",
    "\n",
    "   - [$^{169}$Tm($^{40}$Ca, 4n)$^{205}$Ac----α decay of the new neutron-deficient isotope 205Ac](./paper/205Ac.pdf)\n",
    "   - [$^{217,219}$Ac](./paper/VASSILISSA.pdf)"
   ]
  },
  {
   "cell_type": "markdown",
   "metadata": {},
   "source": [
    "## 1.8 Th"
   ]
  },
  {
   "cell_type": "markdown",
   "metadata": {},
   "source": [
    "| nuclide | $T_{1/2}$ |  error |\n",
    "| ------------------|-----------------------------|----------------|\n",
    "|$^{208}$Th | 1.7   ms | +1.7  0.6 |\n",
    "|$^{209}$Th | 60   ms |  |\n",
    "|$^{210}$Th | 16   ms | 0.4 |"
   ]
  },
  {
   "cell_type": "markdown",
   "metadata": {},
   "source": [
    "## paper\n",
    "\n",
    "   - [$^{64}$Ni + $^{147}$Sm → $^{208}$Th + 3n](./paper/208Th.pdf)"
   ]
  },
  {
   "cell_type": "markdown",
   "metadata": {},
   "source": [
    "## 1.9 Pa"
   ]
  },
  {
   "cell_type": "markdown",
   "metadata": {},
   "source": [
    "| nuclide | $T_{1/2}$ |  error |\n",
    "| ------------------|-----------------------------|----------------|\n",
    "|$^{211}$Pa | 3   ms | >300ns |\n",
    "|$^{212}$Pa | 5.1   ms | +6.1 -1.9 |\n",
    "|$^{213}$Pa | 5.3   ms | +6.0 -1.6 |"
   ]
  },
  {
   "cell_type": "markdown",
   "metadata": {},
   "source": [
    "## paper\n",
    "\n",
    "   -  [$^{221,223,227}$Pa](./paper/VASSILISSA.pdf)"
   ]
  },
  {
   "cell_type": "markdown",
   "metadata": {},
   "source": [
    "## 1.10 U"
   ]
  },
  {
   "cell_type": "markdown",
   "metadata": {},
   "source": [
    "| nuclide | $T_{1/2}$ |  error |\n",
    "| ------------------|-----------------------------|----------------|\n",
    "|$^{215}$U | 1.4   ms | 0.9 |\n",
    "|$^{216}$U | 4.5   ms | +4.7 -1.6 |\n",
    "|$^{217}$U | 16   ms | +21 -6 |"
   ]
  },
  {
   "cell_type": "markdown",
   "metadata": {},
   "source": [
    "## paper\n",
    "\n",
    "   - [$^{180}$W($^{40}$Ar,5n)$^{215}$U----Alpha decay of the new isotope $^{215}$U](./paper/215U.pdf)\n",
    "   - [Alpha Decay of the Neutron-deficient Isotopes $^{215,216}$U](./paper/216U.pdf)\n",
    "   - [$^{224,238,230}$U](./paper/VASSILISSA.pdf)"
   ]
  },
  {
   "cell_type": "markdown",
   "metadata": {},
   "source": [
    "## 1.11 Np"
   ]
  },
  {
   "cell_type": "markdown",
   "metadata": {},
   "source": [
    "| nuclide | $T_{1/2}$ |  error |\n",
    "| ------------------|-----------------------------|----------------|\n",
    "|$^{219}$Np | <5   μs |  |\n",
    "|$^{220}$Np | 30   ns |  |\n",
    "|$^{221}$Np | 30   ns |  |"
   ]
  },
  {
   "cell_type": "markdown",
   "metadata": {},
   "source": [
    "## paper\n",
    "\n",
    "   - [Alpha decay properties of the semi-magic nucleus $^{219}$Np](./paper/219Np.pdf)\n",
    "   - [Np](./paper/228Np,Pu.pdf)\n",
    "   - [$^{231}$Np](./paper/VASSILISSA.pdf)\n",
    "\n"
   ]
  },
  {
   "cell_type": "markdown",
   "metadata": {},
   "source": [
    "## 1.12 Pu"
   ]
  },
  {
   "cell_type": "markdown",
   "metadata": {},
   "source": [
    "| nuclide | $T_{1/2}$ |  error |\n",
    "| ------------------|-----------------------------|----------------|\n",
    "|$^{227}$Pu | 20   ms |  |\n",
    "|$^{228}$Pu | 1.1   s | +2 -0.5 |\n",
    "|$^{229}$Pu | 67   s | +41 -19 |"
   ]
  },
  {
   "cell_type": "markdown",
   "metadata": {},
   "source": [
    "## paper\n",
    "\n",
    "   - [Pu](./paper/228Np,Pu.pdf)\n",
    "   - [$^{232,233,234}$Pu](./paper/VASSILISSA.pdf)\n",
    "\n"
   ]
  },
  {
   "cell_type": "markdown",
   "metadata": {},
   "source": [
    "## 1.13 Am"
   ]
  },
  {
   "cell_type": "markdown",
   "metadata": {},
   "source": [
    "| nuclide | $T_{1/2}$ |  error |\n",
    "| ------------------|-----------------------------|----------------|\n",
    "|$^{229}$Am | 1.8   s | 1.5 |\n",
    "|$^{230}$Am | 40   s | 16 |\n",
    "|$^{231}$Am | 1   min |  |"
   ]
  },
  {
   "cell_type": "markdown",
   "metadata": {},
   "source": [
    "## paper"
   ]
  }
 ],
 "metadata": {
  "kernelspec": {
   "display_name": "ROOT C++",
   "language": "c++",
   "name": "root"
  },
  "language_info": {
   "codemirror_mode": "text/x-c++src",
   "file_extension": ".C",
   "mimetype": " text/x-c++src",
   "name": "c++"
  }
 },
 "nbformat": 4,
 "nbformat_minor": 2
}
